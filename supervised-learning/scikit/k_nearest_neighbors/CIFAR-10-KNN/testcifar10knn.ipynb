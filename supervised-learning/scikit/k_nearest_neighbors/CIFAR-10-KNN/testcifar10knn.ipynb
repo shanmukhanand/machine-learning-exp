{
 "cells": [
  {
   "cell_type": "code",
   "execution_count": 2,
   "metadata": {
    "collapsed": false
   },
   "outputs": [
    {
     "ename": "ModuleNotFoundError",
     "evalue": "No module named 'loadcifar10'",
     "traceback": [
      "\u001b[1;31m---------------------------------------------------------------------------\u001b[0m",
      "\u001b[1;31mModuleNotFoundError\u001b[0m                       Traceback (most recent call last)",
      "\u001b[1;32m<ipython-input-2-754b2deb1b65>\u001b[0m in \u001b[0;36m<module>\u001b[1;34m()\u001b[0m\n\u001b[0;32m      1\u001b[0m \u001b[1;32mimport\u001b[0m \u001b[0mnumpy\u001b[0m \u001b[1;32mas\u001b[0m \u001b[0mnp\u001b[0m\u001b[1;33m\u001b[0m\u001b[0m\n\u001b[1;32m----> 2\u001b[1;33m \u001b[1;32mimport\u001b[0m \u001b[0mloadcifar10\u001b[0m \u001b[1;32mas\u001b[0m \u001b[0mlc\u001b[0m\u001b[1;33m\u001b[0m\u001b[0m\n\u001b[0m\u001b[0;32m      3\u001b[0m \u001b[1;32mimport\u001b[0m \u001b[0mknn\u001b[0m\u001b[1;33m\u001b[0m\u001b[0m\n\u001b[0;32m      4\u001b[0m \u001b[1;32mimport\u001b[0m \u001b[0mmatplotlib\u001b[0m\u001b[1;33m.\u001b[0m\u001b[0mpyplot\u001b[0m \u001b[1;32mas\u001b[0m \u001b[0mplt\u001b[0m\u001b[1;33m\u001b[0m\u001b[0m\n",
      "\u001b[1;31mModuleNotFoundError\u001b[0m: No module named 'loadcifar10'"
     ],
     "output_type": "error"
    }
   ],
   "source": [
    "import numpy as np\n",
    "import loadcifar10 as lc\n",
    "import knn\n",
    "import matplotlib.pyplot as plt"
   ]
  },
  {
   "cell_type": "code",
   "execution_count": 2,
   "metadata": {
    "collapsed": true
   },
   "outputs": [],
   "source": [
    "%matplotlib inline\n",
    "%load_ext autoreload\n",
    "%autoreload 2"
   ]
  },
  {
   "cell_type": "code",
   "execution_count": 3,
   "metadata": {
    "collapsed": true
   },
   "outputs": [],
   "source": [
    "def plot(accuracy_per_class, accuracy, color, names):\n",
    "    ind = np.arange(10)\n",
    "    width = 0.5\n",
    "    fig, ax = plt.subplots()\n",
    "    rects = ax.bar(ind, accuracy_per_class, width, color='b')\n",
    "    ax.set_ylabel('Accuracy')\n",
    "    ax.set_title('KNN on %s CIFAR-10 accuracy per class, average accuracy = %f' % (color, accuracy))\n",
    "    ax.set_xticks(ind)\n",
    "    ax.set_xticklabels(names, rotation='vertical')\n",
    "    plt.show()"
   ]
  },
  {
   "cell_type": "code",
   "execution_count": 4,
   "metadata": {
    "collapsed": true
   },
   "outputs": [],
   "source": [
    "def get_accuracy(predict, yte):\n",
    "    accuracy_per_class = [0.] * 10\n",
    "    for i in range(predict.shape[0]):\n",
    "        if predict[i] == yte[i]:\n",
    "            accuracy_per_class[yte[i]] += 1.\n",
    "    for i in range(10):\n",
    "        accuracy_per_class[i] /= 1000\n",
    "    accuracy = np.sum(predict == yte) / 10000\n",
    "    return accuracy_per_class, accuracy"
   ]
  },
  {
   "cell_type": "code",
   "execution_count": 5,
   "metadata": {
    "collapsed": true
   },
   "outputs": [],
   "source": [
    "def train_and_predict(xtr, ytr, xte, yte, k, l, color, names):\n",
    "    knn_o = knn.KNN()\n",
    "    knn_o.train(xtr, ytr)\n",
    "    predict = knn_o.predict(xte, k, l)\n",
    "    accuracy_per_class, accuracy = get_accuracy(predict, yte)\n",
    "    plot(accuracy_per_class, accuracy, color, names)"
   ]
  },
  {
   "cell_type": "code",
   "execution_count": 1,
   "metadata": {
    "collapsed": false
   },
   "outputs": [
    {
     "ename": "NameError",
     "evalue": "name 'lc' is not defined",
     "traceback": [
      "\u001b[1;31m---------------------------------------------------------------------------\u001b[0m",
      "\u001b[1;31mNameError\u001b[0m                                 Traceback (most recent call last)",
      "\u001b[1;32m<ipython-input-1-b953b80066a8>\u001b[0m in \u001b[0;36m<module>\u001b[1;34m()\u001b[0m\n\u001b[1;32m----> 1\u001b[1;33m \u001b[0mxtr\u001b[0m\u001b[1;33m,\u001b[0m \u001b[0mxgtr\u001b[0m\u001b[1;33m,\u001b[0m \u001b[0mytr\u001b[0m\u001b[1;33m,\u001b[0m \u001b[0mxte\u001b[0m\u001b[1;33m,\u001b[0m \u001b[0mxgte\u001b[0m\u001b[1;33m,\u001b[0m \u001b[0myte\u001b[0m\u001b[1;33m,\u001b[0m \u001b[0mnames\u001b[0m \u001b[1;33m=\u001b[0m \u001b[0mlc\u001b[0m\u001b[1;33m.\u001b[0m\u001b[0mload_cifar\u001b[0m\u001b[1;33m(\u001b[0m\u001b[1;34m'../../../../data/CIFAR-10/cifar-10-batches-py'\u001b[0m\u001b[1;33m)\u001b[0m\u001b[1;33m\u001b[0m\u001b[0m\n\u001b[0m\u001b[0;32m      2\u001b[0m \u001b[1;31m# best_k and best_l from cross-validation are k=1 and L1\u001b[0m\u001b[1;33m\u001b[0m\u001b[1;33m\u001b[0m\u001b[0m\n\u001b[0;32m      3\u001b[0m \u001b[0mbest_k\u001b[0m \u001b[1;33m=\u001b[0m \u001b[1;36m1\u001b[0m\u001b[1;33m\u001b[0m\u001b[0m\n\u001b[0;32m      4\u001b[0m \u001b[0mbest_l\u001b[0m \u001b[1;33m=\u001b[0m \u001b[1;34m'L1'\u001b[0m\u001b[1;33m\u001b[0m\u001b[0m\n\u001b[0;32m      5\u001b[0m \u001b[0mtrain_and_predict\u001b[0m\u001b[1;33m(\u001b[0m\u001b[0mxtr\u001b[0m\u001b[1;33m,\u001b[0m \u001b[0mytr\u001b[0m\u001b[1;33m,\u001b[0m \u001b[0mxte\u001b[0m\u001b[1;33m,\u001b[0m \u001b[0myte\u001b[0m\u001b[1;33m,\u001b[0m \u001b[0mbest_k\u001b[0m\u001b[1;33m,\u001b[0m \u001b[0mbest_l\u001b[0m\u001b[1;33m,\u001b[0m \u001b[1;34m'colored'\u001b[0m\u001b[1;33m,\u001b[0m \u001b[0mnames\u001b[0m\u001b[1;33m)\u001b[0m\u001b[1;33m\u001b[0m\u001b[0m\n",
      "\u001b[1;31mNameError\u001b[0m: name 'lc' is not defined"
     ],
     "output_type": "error"
    }
   ],
   "source": [
    "xtr, xgtr, ytr, xte, xgte, yte, names = lc.load_cifar('../../../../data/CIFAR-10/cifar-10-batches-py')\n",
    "# best_k and best_l from cross-validation are k=1 and L1\n",
    "best_k = 1\n",
    "best_l = 'L1'\n",
    "train_and_predict(xtr, ytr, xte, yte, best_k, best_l, 'colored', names)\n",
    "train_and_predict(xgtr, ytr, xgte, yte, best_k, best_l, 'grayscale', names)"
   ]
  },
  {
   "cell_type": "code",
   "execution_count": null,
   "metadata": {
    "collapsed": true
   },
   "outputs": [],
   "source": []
  }
 ],
 "metadata": {
  "kernelspec": {
   "display_name": "Python 3",
   "language": "python",
   "name": "python3"
  },
  "language_info": {
   "codemirror_mode": {
    "name": "ipython",
    "version": 3
   },
   "file_extension": ".py",
   "mimetype": "text/x-python",
   "name": "python",
   "nbconvert_exporter": "python",
   "pygments_lexer": "ipython3",
   "version": "3.6.0"
  }
 },
 "nbformat": 4,
 "nbformat_minor": 2
}
